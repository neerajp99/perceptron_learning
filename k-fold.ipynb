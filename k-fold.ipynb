{
 "cells": [
  {
   "cell_type": "code",
   "execution_count": 276,
   "metadata": {},
   "outputs": [],
   "source": [
    "import numpy as np\n",
    "import matplotlib.pyplot as plt \n",
    "import pandas as pd \n",
    "import random"
   ]
  },
  {
   "cell_type": "code",
   "execution_count": 319,
   "metadata": {},
   "outputs": [],
   "source": [
    "# Import data and create a 2-D matrix out of it\n",
    "data = open('hw2data-1.txt', 'r') \n",
    "Lines = data.readlines()\n",
    "initial_data = []\n",
    "for i, line in enumerate(Lines):\n",
    "    initial_data.append(Lines[i].strip().split(' '))"
   ]
  },
  {
   "cell_type": "code",
   "execution_count": 328,
   "metadata": {},
   "outputs": [
    {
     "data": {
      "text/plain": [
       "47.40992024739397"
      ]
     },
     "execution_count": 328,
     "metadata": {},
     "output_type": "execute_result"
    }
   ],
   "source": [
    "def k_fold(degree):\n",
    "    # Create training and test variables \n",
    "    # K-fold is 20-80% of the total data\n",
    "    k_fold_value = int(len(initial_data) / 5)\n",
    "    initial_val = 0\n",
    "    error_arr = []\n",
    "    for j in range(k_fold_value, len(initial_data), k_fold_value):\n",
    "        X_train, Y_train, X_test, Y_test = [], [], [], []\n",
    "        for i, val in enumerate(initial_data):\n",
    "            if i > initial_val and i <= j:\n",
    "                X_test.append(float(val[0]))\n",
    "                Y_test.append(float(val[1]))\n",
    "            else:\n",
    "                X_train.append(float(val[0]))\n",
    "                Y_train.append(float(val[1]))\n",
    "        initial_val += k_fold_value\n",
    "        # Calculate the coefficients of the polynomial\n",
    "        theta = np.polyfit(np.array(X_train), np.array(Y_train), degree)\n",
    "\n",
    "        # Predicted value of 'y'\n",
    "        y_predicted = np.polyval(theta, np.array(X_test))\n",
    "        \n",
    "        # Now, comparing the value of Y_test (actual values) with the predicted values of 'y'\n",
    "        # Calcuating the mean squared error\n",
    "        error = np.sum((y_predicted - Y_test) ** 2) / len(X_test)\n",
    "        error_arr.append(error)\n",
    "    return error_arr\n",
    "\n",
    "errors = k_fold(9)\n",
    "mean_error = sum(errors) / len(errors)\n",
    "mean_error"
   ]
  },
  {
   "cell_type": "markdown",
   "metadata": {},
   "source": [
    "> Degree 5: 0.16061326365712392\n",
    "\n",
    "> Degree 9: 47.40992024739397\n",
    "\n",
    "> Degree 13: 5555.822588768877"
   ]
  },
  {
   "cell_type": "code",
   "execution_count": null,
   "metadata": {},
   "outputs": [],
   "source": []
  }
 ],
 "metadata": {
  "kernelspec": {
   "display_name": "Python 3",
   "language": "python",
   "name": "python3"
  },
  "language_info": {
   "codemirror_mode": {
    "name": "ipython",
    "version": 3
   },
   "file_extension": ".py",
   "mimetype": "text/x-python",
   "name": "python",
   "nbconvert_exporter": "python",
   "pygments_lexer": "ipython3",
   "version": "3.7.4"
  }
 },
 "nbformat": 4,
 "nbformat_minor": 2
}
